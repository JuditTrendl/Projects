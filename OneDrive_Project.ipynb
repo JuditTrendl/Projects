{
 "cells": [
  {
   "cell_type": "code",
   "execution_count": null,
   "metadata": {
    "collapsed": true
   },
   "outputs": [],
   "source": [
    "import os"
   ]
  },
  {
   "cell_type": "code",
   "execution_count": null,
   "metadata": {
    "scrolled": true
   },
   "outputs": [],
   "source": [
    "new_client = input('Ügyfél neve: ')\n",
    "business_type = input('hajós vagy ingatlanos mappa struktúra kell?')"
   ]
  },
  {
   "cell_type": "code",
   "execution_count": null,
   "metadata": {},
   "outputs": [],
   "source": [
    "def create_folder_structure(business_type):\n",
    "    if \"hajó\" in business_type.lower():\n",
    "        folders = (\"\\\\hajóügy1\", \"\\\\hajóügy2\", \"\\\\hajóügy3\")\n",
    "        for folder in folders:\n",
    "            os.makedirs(newpath+folder)\n",
    "    if \"ingatlan\" in business_type.lower():\n",
    "        folders = (\"\\\\házügy1\", \"\\\\házügy2\", \"\\\\házügy3\")\n",
    "        for folder in folders:\n",
    "            os.makedirs(newpath+folder)"
   ]
  },
  {
   "cell_type": "code",
   "execution_count": null,
   "metadata": {},
   "outputs": [],
   "source": [
    "newpath = r'C:\\Users\\Csucsu\\OneDrive\\\\' + new_client\n",
    "\n",
    "if not os.path.exists(newpath):\n",
    "    os.makedirs(newpath)\n",
    "    create_folder_structure(business_type)"
   ]
  },
  {
   "cell_type": "code",
   "execution_count": null,
   "metadata": {
    "collapsed": true
   },
   "outputs": [],
   "source": []
  }
 ],
 "metadata": {
  "kernelspec": {
   "display_name": "Python 3",
   "language": "python",
   "name": "python3"
  },
  "language_info": {
   "codemirror_mode": {
    "name": "ipython",
    "version": 3
   },
   "file_extension": ".py",
   "mimetype": "text/x-python",
   "name": "python",
   "nbconvert_exporter": "python",
   "pygments_lexer": "ipython3",
   "version": "3.6.3"
  }
 },
 "nbformat": 4,
 "nbformat_minor": 2
}
