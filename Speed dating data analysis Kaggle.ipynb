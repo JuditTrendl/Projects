{
 "cells": [
  {
   "cell_type": "code",
   "execution_count": 1,
   "metadata": {},
   "outputs": [
    {
     "data": {
      "text/html": [
       "<script>requirejs.config({paths: { 'plotly': ['https://cdn.plot.ly/plotly-latest.min']},});if(!window.Plotly) {{require(['plotly'],function(plotly) {window.Plotly=plotly;});}}</script>"
      ],
      "text/vnd.plotly.v1+html": [
       "<script>requirejs.config({paths: { 'plotly': ['https://cdn.plot.ly/plotly-latest.min']},});if(!window.Plotly) {{require(['plotly'],function(plotly) {window.Plotly=plotly;});}}</script>"
      ]
     },
     "metadata": {},
     "output_type": "display_data"
    }
   ],
   "source": [
    "import pandas as pd\n",
    "import matplotlib.pyplot as plt\n",
    "import pandas as pd\n",
    "import numpy as np\n",
    "import seaborn as sns\n",
    "import warnings\n",
    "import plotly.offline as py\n",
    "py.init_notebook_mode(connected=True)\n",
    "import plotly.graph_objs as go\n",
    "import plotly.tools as tls\n",
    "import warnings"
   ]
  },
  {
   "cell_type": "code",
   "execution_count": 2,
   "metadata": {
    "collapsed": true
   },
   "outputs": [],
   "source": [
    "dataset = pd.read_csv(r'C:\\Users\\csucsu\\Desktop\\own projects\\SDE\\Speed Dating Data.csv', encoding = 'latin-1')"
   ]
  },
  {
   "cell_type": "code",
   "execution_count": 3,
   "metadata": {},
   "outputs": [
    {
     "name": "stdout",
     "output_type": "stream",
     "text": [
      "<class 'pandas.core.frame.DataFrame'>\n"
     ]
    }
   ],
   "source": [
    "print(type(dataset))"
   ]
  },
  {
   "cell_type": "code",
   "execution_count": 4,
   "metadata": {},
   "outputs": [
    {
     "data": {
      "text/html": [
       "<div>\n",
       "<style>\n",
       "    .dataframe thead tr:only-child th {\n",
       "        text-align: right;\n",
       "    }\n",
       "\n",
       "    .dataframe thead th {\n",
       "        text-align: left;\n",
       "    }\n",
       "\n",
       "    .dataframe tbody tr th {\n",
       "        vertical-align: top;\n",
       "    }\n",
       "</style>\n",
       "<table border=\"1\" class=\"dataframe\">\n",
       "  <thead>\n",
       "    <tr style=\"text-align: right;\">\n",
       "      <th></th>\n",
       "      <th>iid</th>\n",
       "      <th>id</th>\n",
       "      <th>gender</th>\n",
       "      <th>idg</th>\n",
       "      <th>condtn</th>\n",
       "      <th>wave</th>\n",
       "      <th>round</th>\n",
       "      <th>position</th>\n",
       "      <th>positin1</th>\n",
       "      <th>order</th>\n",
       "      <th>...</th>\n",
       "      <th>attr3_3</th>\n",
       "      <th>sinc3_3</th>\n",
       "      <th>intel3_3</th>\n",
       "      <th>fun3_3</th>\n",
       "      <th>amb3_3</th>\n",
       "      <th>attr5_3</th>\n",
       "      <th>sinc5_3</th>\n",
       "      <th>intel5_3</th>\n",
       "      <th>fun5_3</th>\n",
       "      <th>amb5_3</th>\n",
       "    </tr>\n",
       "  </thead>\n",
       "  <tbody>\n",
       "    <tr>\n",
       "      <th>0</th>\n",
       "      <td>1</td>\n",
       "      <td>1.0</td>\n",
       "      <td>0</td>\n",
       "      <td>1</td>\n",
       "      <td>1</td>\n",
       "      <td>1</td>\n",
       "      <td>10</td>\n",
       "      <td>7</td>\n",
       "      <td>NaN</td>\n",
       "      <td>4</td>\n",
       "      <td>...</td>\n",
       "      <td>5.0</td>\n",
       "      <td>7.0</td>\n",
       "      <td>7.0</td>\n",
       "      <td>7.0</td>\n",
       "      <td>7.0</td>\n",
       "      <td>NaN</td>\n",
       "      <td>NaN</td>\n",
       "      <td>NaN</td>\n",
       "      <td>NaN</td>\n",
       "      <td>NaN</td>\n",
       "    </tr>\n",
       "    <tr>\n",
       "      <th>1</th>\n",
       "      <td>1</td>\n",
       "      <td>1.0</td>\n",
       "      <td>0</td>\n",
       "      <td>1</td>\n",
       "      <td>1</td>\n",
       "      <td>1</td>\n",
       "      <td>10</td>\n",
       "      <td>7</td>\n",
       "      <td>NaN</td>\n",
       "      <td>3</td>\n",
       "      <td>...</td>\n",
       "      <td>5.0</td>\n",
       "      <td>7.0</td>\n",
       "      <td>7.0</td>\n",
       "      <td>7.0</td>\n",
       "      <td>7.0</td>\n",
       "      <td>NaN</td>\n",
       "      <td>NaN</td>\n",
       "      <td>NaN</td>\n",
       "      <td>NaN</td>\n",
       "      <td>NaN</td>\n",
       "    </tr>\n",
       "    <tr>\n",
       "      <th>2</th>\n",
       "      <td>1</td>\n",
       "      <td>1.0</td>\n",
       "      <td>0</td>\n",
       "      <td>1</td>\n",
       "      <td>1</td>\n",
       "      <td>1</td>\n",
       "      <td>10</td>\n",
       "      <td>7</td>\n",
       "      <td>NaN</td>\n",
       "      <td>10</td>\n",
       "      <td>...</td>\n",
       "      <td>5.0</td>\n",
       "      <td>7.0</td>\n",
       "      <td>7.0</td>\n",
       "      <td>7.0</td>\n",
       "      <td>7.0</td>\n",
       "      <td>NaN</td>\n",
       "      <td>NaN</td>\n",
       "      <td>NaN</td>\n",
       "      <td>NaN</td>\n",
       "      <td>NaN</td>\n",
       "    </tr>\n",
       "    <tr>\n",
       "      <th>3</th>\n",
       "      <td>1</td>\n",
       "      <td>1.0</td>\n",
       "      <td>0</td>\n",
       "      <td>1</td>\n",
       "      <td>1</td>\n",
       "      <td>1</td>\n",
       "      <td>10</td>\n",
       "      <td>7</td>\n",
       "      <td>NaN</td>\n",
       "      <td>5</td>\n",
       "      <td>...</td>\n",
       "      <td>5.0</td>\n",
       "      <td>7.0</td>\n",
       "      <td>7.0</td>\n",
       "      <td>7.0</td>\n",
       "      <td>7.0</td>\n",
       "      <td>NaN</td>\n",
       "      <td>NaN</td>\n",
       "      <td>NaN</td>\n",
       "      <td>NaN</td>\n",
       "      <td>NaN</td>\n",
       "    </tr>\n",
       "    <tr>\n",
       "      <th>4</th>\n",
       "      <td>1</td>\n",
       "      <td>1.0</td>\n",
       "      <td>0</td>\n",
       "      <td>1</td>\n",
       "      <td>1</td>\n",
       "      <td>1</td>\n",
       "      <td>10</td>\n",
       "      <td>7</td>\n",
       "      <td>NaN</td>\n",
       "      <td>7</td>\n",
       "      <td>...</td>\n",
       "      <td>5.0</td>\n",
       "      <td>7.0</td>\n",
       "      <td>7.0</td>\n",
       "      <td>7.0</td>\n",
       "      <td>7.0</td>\n",
       "      <td>NaN</td>\n",
       "      <td>NaN</td>\n",
       "      <td>NaN</td>\n",
       "      <td>NaN</td>\n",
       "      <td>NaN</td>\n",
       "    </tr>\n",
       "  </tbody>\n",
       "</table>\n",
       "<p>5 rows × 195 columns</p>\n",
       "</div>"
      ],
      "text/plain": [
       "   iid   id  gender  idg  condtn  wave  round  position  positin1  order  \\\n",
       "0    1  1.0       0    1       1     1     10         7       NaN      4   \n",
       "1    1  1.0       0    1       1     1     10         7       NaN      3   \n",
       "2    1  1.0       0    1       1     1     10         7       NaN     10   \n",
       "3    1  1.0       0    1       1     1     10         7       NaN      5   \n",
       "4    1  1.0       0    1       1     1     10         7       NaN      7   \n",
       "\n",
       "    ...    attr3_3  sinc3_3  intel3_3  fun3_3  amb3_3  attr5_3  sinc5_3  \\\n",
       "0   ...        5.0      7.0       7.0     7.0     7.0      NaN      NaN   \n",
       "1   ...        5.0      7.0       7.0     7.0     7.0      NaN      NaN   \n",
       "2   ...        5.0      7.0       7.0     7.0     7.0      NaN      NaN   \n",
       "3   ...        5.0      7.0       7.0     7.0     7.0      NaN      NaN   \n",
       "4   ...        5.0      7.0       7.0     7.0     7.0      NaN      NaN   \n",
       "\n",
       "   intel5_3  fun5_3  amb5_3  \n",
       "0       NaN     NaN     NaN  \n",
       "1       NaN     NaN     NaN  \n",
       "2       NaN     NaN     NaN  \n",
       "3       NaN     NaN     NaN  \n",
       "4       NaN     NaN     NaN  \n",
       "\n",
       "[5 rows x 195 columns]"
      ]
     },
     "execution_count": 4,
     "metadata": {},
     "output_type": "execute_result"
    }
   ],
   "source": [
    "dataset.head()"
   ]
  },
  {
   "cell_type": "code",
   "execution_count": 5,
   "metadata": {},
   "outputs": [
    {
     "name": "stdout",
     "output_type": "stream",
     "text": [
      "1\n",
      "2\n",
      "3\n"
     ]
    }
   ],
   "source": [
    "muk = {1:'de', 2:'miert', 3:'ne'}\n",
    "for key, value in muk.items():\n",
    "    print (key)"
   ]
  },
  {
   "cell_type": "code",
   "execution_count": 6,
   "metadata": {},
   "outputs": [
    {
     "data": {
      "text/plain": [
       "(8378, 195)"
      ]
     },
     "execution_count": 6,
     "metadata": {},
     "output_type": "execute_result"
    }
   ],
   "source": [
    "dataset.shape"
   ]
  },
  {
   "cell_type": "code",
   "execution_count": 7,
   "metadata": {},
   "outputs": [
    {
     "name": "stdout",
     "output_type": "stream",
     "text": [
      "There are 4184 females and 4194 males in this dataset.\n"
     ]
    },
    {
     "data": {
      "image/png": "[encoded data removed]",
      "text/plain": [
       "<matplotlib.figure.Figure at 0x1f190348b70>"
      ]
     },
     "metadata": {},
     "output_type": "display_data"
    }
   ],
   "source": [
    "# Is the number of men and women are equivalent?\n",
    "female_number = len(dataset[dataset['gender'] == 0])\n",
    "male_number =len(dataset[dataset['gender'] == 1])\n",
    "import seaborn as sns\n",
    "sns.countplot(x='gender',data=dataset)\n",
    "print('There are', female_number, 'females and', male_number, 'males in this dataset.')\n",
    "plt.show()"
   ]
  },
  {
   "cell_type": "code",
   "execution_count": 8,
   "metadata": {},
   "outputs": [
    {
     "data": {
      "text/html": [
       "<div>\n",
       "<style>\n",
       "    .dataframe thead tr:only-child th {\n",
       "        text-align: right;\n",
       "    }\n",
       "\n",
       "    .dataframe thead th {\n",
       "        text-align: left;\n",
       "    }\n",
       "\n",
       "    .dataframe tbody tr th {\n",
       "        vertical-align: top;\n",
       "    }\n",
       "</style>\n",
       "<table border=\"1\" class=\"dataframe\">\n",
       "  <thead>\n",
       "    <tr style=\"text-align: right;\">\n",
       "      <th></th>\n",
       "      <th>attr1_1</th>\n",
       "      <th>sinc1_1</th>\n",
       "      <th>intel1_1</th>\n",
       "      <th>fun1_1</th>\n",
       "      <th>amb1_1</th>\n",
       "      <th>shar1_1</th>\n",
       "    </tr>\n",
       "    <tr>\n",
       "      <th>gender</th>\n",
       "      <th></th>\n",
       "      <th></th>\n",
       "      <th></th>\n",
       "      <th></th>\n",
       "      <th></th>\n",
       "      <th></th>\n",
       "    </tr>\n",
       "  </thead>\n",
       "  <tbody>\n",
       "    <tr>\n",
       "      <th>0</th>\n",
       "      <td>18.055224</td>\n",
       "      <td>18.305008</td>\n",
       "      <td>21.002502</td>\n",
       "      <td>17.147292</td>\n",
       "      <td>12.827222</td>\n",
       "      <td>12.704194</td>\n",
       "    </tr>\n",
       "    <tr>\n",
       "      <th>1</th>\n",
       "      <td>26.921689</td>\n",
       "      <td>16.498436</td>\n",
       "      <td>19.537374</td>\n",
       "      <td>17.763893</td>\n",
       "      <td>8.552829</td>\n",
       "      <td>10.996574</td>\n",
       "    </tr>\n",
       "  </tbody>\n",
       "</table>\n",
       "</div>"
      ],
      "text/plain": [
       "          attr1_1    sinc1_1   intel1_1     fun1_1     amb1_1    shar1_1\n",
       "gender                                                                  \n",
       "0       18.055224  18.305008  21.002502  17.147292  12.827222  12.704194\n",
       "1       26.921689  16.498436  19.537374  17.763893   8.552829  10.996574"
      ]
     },
     "execution_count": 8,
     "metadata": {},
     "output_type": "execute_result"
    }
   ],
   "source": [
    "gender_attributes = dataset[['gender','attr1_1', 'sinc1_1','intel1_1', 'fun1_1', 'amb1_1', 'shar1_1']].groupby('gender').mean()\n",
    "gender_attributes"
   ]
  },
  {
   "cell_type": "code",
   "execution_count": 9,
   "metadata": {
    "collapsed": true
   },
   "outputs": [],
   "source": [
    "cols = ['Attractiveness', 'Sincereness', 'Intellect', 'Fun', 'Ambitiousness', 'Shared Interests']"
   ]
  },
  {
   "cell_type": "code",
   "execution_count": 10,
   "metadata": {
    "collapsed": true
   },
   "outputs": [],
   "source": [
    "gender_attributes.columns = cols"
   ]
  },
  {
   "cell_type": "code",
   "execution_count": 11,
   "metadata": {},
   "outputs": [
    {
     "data": {
      "text/plain": [
       "Index(['Attractiveness', 'Sincereness', 'Intellect', 'Fun', 'Ambitiousness',\n",
       "       'Shared Interests'],\n",
       "      dtype='object')"
      ]
     },
     "execution_count": 11,
     "metadata": {},
     "output_type": "execute_result"
    }
   ],
   "source": [
    "gender_attributes.columns"
   ]
  },
  {
   "cell_type": "code",
   "execution_count": 12,
   "metadata": {},
   "outputs": [
    {
     "data": {
      "application/vnd.plotly.v1+json": {
       "data": [
        {
         "marker": {
          "color": "rgb(233,230,32)"
         },
         "name": "Men about themselves",
         "type": "bar",
         "x": [
          "Attractiveness",
          "Sincereness",
          "Intellect",
          "Fun",
          "Ambitiousness",
          "Shared Interests"
         ],
         "y": [
          26.921689027311793,
          16.498435553425928,
          19.537374221370353,
          17.76389289145044,
          8.552828598940778,
          10.996574386133897
         ]
        },
        {
         "marker": {
          "color": "red"
         },
         "name": "Women about themselves",
         "type": "bar",
         "x": [
          "Attractiveness",
          "Sincereness",
          "Intellect",
          "Fun",
          "Ambitiousness",
          "Shared Interests"
         ],
         "y": [
          18.055224242424316,
          18.3050084848485,
          21.002501818181855,
          17.14729212121212,
          12.827221818181824,
          12.70419449183524
         ]
        }
       ],
       "layout": {
        "font": {
         "size": 14
        },
        "legend": {
         "font": {
          "size": 14
         }
        },
        "title": "What People Are Looking For in the Opposite Sex"
       }
      },
      "text/html": [
       "<div id=\"a5f1bb24-0f41-4eb4-8902-0346b948a945\" style=\"height: 525px; width: 100%;\" class=\"plotly-graph-div\"></div><script type=\"text/javascript\">require([\"plotly\"], function(Plotly) { window.PLOTLYENV=window.PLOTLYENV || {};window.PLOTLYENV.BASE_URL=\"https://plot.ly\";Plotly.newPlot(\"a5f1bb24-0f41-4eb4-8902-0346b948a945\", [{\"type\": \"bar\", \"y\": [26.921689027311793, 16.498435553425928, 19.537374221370353, 17.76389289145044, 8.552828598940778, 10.996574386133897], \"x\": [\"Attractiveness\", \"Sincereness\", \"Intellect\", \"Fun\", \"Ambitiousness\", \"Shared Interests\"], \"name\": \"Men about themselves\", \"marker\": {\"color\": \"rgb(233,230,32)\"}}, {\"type\": \"bar\", \"y\": [18.055224242424316, 18.3050084848485, 21.002501818181855, 17.14729212121212, 12.827221818181824, 12.70419449183524], \"x\": [\"Attractiveness\", \"Sincereness\", \"Intellect\", \"Fun\", \"Ambitiousness\", \"Shared Interests\"], \"name\": \"Women about themselves\", \"marker\": {\"color\": \"red\"}}], {\"title\": \"What People Are Looking For in the Opposite Sex\", \"font\": {\"size\": 14}, \"legend\": {\"font\": {\"size\": 14}}}, {\"showLink\": true, \"linkText\": \"Export to plot.ly\"})});</script>"
      ],
      "text/vnd.plotly.v1+html": [
       "<div id=\"a5f1bb24-0f41-4eb4-8902-0346b948a945\" style=\"height: 525px; width: 100%;\" class=\"plotly-graph-div\"></div><script type=\"text/javascript\">require([\"plotly\"], function(Plotly) { window.PLOTLYENV=window.PLOTLYENV || {};window.PLOTLYENV.BASE_URL=\"https://plot.ly\";Plotly.newPlot(\"a5f1bb24-0f41-4eb4-8902-0346b948a945\", [{\"type\": \"bar\", \"y\": [26.921689027311793, 16.498435553425928, 19.537374221370353, 17.76389289145044, 8.552828598940778, 10.996574386133897], \"x\": [\"Attractiveness\", \"Sincereness\", \"Intellect\", \"Fun\", \"Ambitiousness\", \"Shared Interests\"], \"name\": \"Men about themselves\", \"marker\": {\"color\": \"rgb(233,230,32)\"}}, {\"type\": \"bar\", \"y\": [18.055224242424316, 18.3050084848485, 21.002501818181855, 17.14729212121212, 12.827221818181824, 12.70419449183524], \"x\": [\"Attractiveness\", \"Sincereness\", \"Intellect\", \"Fun\", \"Ambitiousness\", \"Shared Interests\"], \"name\": \"Women about themselves\", \"marker\": {\"color\": \"red\"}}], {\"title\": \"What People Are Looking For in the Opposite Sex\", \"font\": {\"size\": 14}, \"legend\": {\"font\": {\"size\": 14}}}, {\"showLink\": true, \"linkText\": \"Export to plot.ly\"})});</script>"
      ]
     },
     "metadata": {},
     "output_type": "display_data"
    }
   ],
   "source": [
    "import plotly.graph_objs as go\n",
    "\n",
    "men_data = go.Bar(\n",
    "    y=list(gender_attributes.iloc[1]),\n",
    "    x=gender_attributes.columns.values,\n",
    "    name='Men about themselves',\n",
    "    marker=dict(\n",
    "        color='rgb(233,230,32)'\n",
    "    )\n",
    ")\n",
    "women_data = go.Bar(\n",
    "    y=list(gender_attributes.iloc[0]),\n",
    "    x=gender_attributes.columns.values,\n",
    "    name='Women about themselves',\n",
    "    marker=dict(\n",
    "    color='red'\n",
    "    )\n",
    ")\n",
    "\n",
    "data1 = [men_data,women_data]\n",
    "layout1 = go.Layout(\n",
    "    title='What People Are Looking For in the Opposite Sex',\n",
    "    font=dict(\n",
    "        size=14\n",
    "    ),\n",
    "    legend=dict(\n",
    "        font=dict(\n",
    "            size=14\n",
    "        )\n",
    "    )\n",
    ")\n",
    "fig = go.Figure(data=data1, layout=layout1)\n",
    "py.iplot(fig, filename='barchart')"
   ]
  },
  {
   "cell_type": "code",
   "execution_count": 13,
   "metadata": {
    "collapsed": true
   },
   "outputs": [],
   "source": [
    "presumed_attributes = dataset[['gender','attr2_1', 'sinc2_1','intel2_1', 'fun2_1', 'amb2_1', 'shar2_1']].groupby('gender').mean()"
   ]
  },
  {
   "cell_type": "code",
   "execution_count": 14,
   "metadata": {},
   "outputs": [
    {
     "data": {
      "text/html": [
       "<div>\n",
       "<style>\n",
       "    .dataframe thead tr:only-child th {\n",
       "        text-align: right;\n",
       "    }\n",
       "\n",
       "    .dataframe thead th {\n",
       "        text-align: left;\n",
       "    }\n",
       "\n",
       "    .dataframe tbody tr th {\n",
       "        vertical-align: top;\n",
       "    }\n",
       "</style>\n",
       "<table border=\"1\" class=\"dataframe\">\n",
       "  <thead>\n",
       "    <tr style=\"text-align: right;\">\n",
       "      <th></th>\n",
       "      <th>attr2_1</th>\n",
       "      <th>sinc2_1</th>\n",
       "      <th>intel2_1</th>\n",
       "      <th>fun2_1</th>\n",
       "      <th>amb2_1</th>\n",
       "      <th>shar2_1</th>\n",
       "    </tr>\n",
       "    <tr>\n",
       "      <th>gender</th>\n",
       "      <th></th>\n",
       "      <th></th>\n",
       "      <th></th>\n",
       "      <th></th>\n",
       "      <th></th>\n",
       "      <th></th>\n",
       "    </tr>\n",
       "  </thead>\n",
       "  <tbody>\n",
       "    <tr>\n",
       "      <th>0</th>\n",
       "      <td>35.694349</td>\n",
       "      <td>11.343646</td>\n",
       "      <td>12.532022</td>\n",
       "      <td>18.733510</td>\n",
       "      <td>9.230638</td>\n",
       "      <td>12.645113</td>\n",
       "    </tr>\n",
       "    <tr>\n",
       "      <th>1</th>\n",
       "      <td>25.092631</td>\n",
       "      <td>15.181078</td>\n",
       "      <td>16.279633</td>\n",
       "      <td>18.115379</td>\n",
       "      <td>14.234815</td>\n",
       "      <td>11.071924</td>\n",
       "    </tr>\n",
       "  </tbody>\n",
       "</table>\n",
       "</div>"
      ],
      "text/plain": [
       "          attr2_1    sinc2_1   intel2_1     fun2_1     amb2_1    shar2_1\n",
       "gender                                                                  \n",
       "0       35.694349  11.343646  12.532022  18.733510   9.230638  12.645113\n",
       "1       25.092631  15.181078  16.279633  18.115379  14.234815  11.071924"
      ]
     },
     "execution_count": 14,
     "metadata": {},
     "output_type": "execute_result"
    }
   ],
   "source": [
    "presumed_attributes"
   ]
  },
  {
   "cell_type": "raw",
   "metadata": {},
   "source": [
    "presumed_attributes.columns = cols"
   ]
  },
  {
   "cell_type": "code",
   "execution_count": 15,
   "metadata": {},
   "outputs": [
    {
     "data": {
      "text/plain": [
       "['Attractiveness',\n",
       " 'Sincereness',\n",
       " 'Intellect',\n",
       " 'Fun',\n",
       " 'Ambitiousness',\n",
       " 'Shared Interests']"
      ]
     },
     "execution_count": 15,
     "metadata": {},
     "output_type": "execute_result"
    }
   ],
   "source": [
    "cols"
   ]
  },
  {
   "cell_type": "code",
   "execution_count": 16,
   "metadata": {},
   "outputs": [
    {
     "data": {
      "text/plain": [
       "Index(['attr2_1', 'sinc2_1', 'intel2_1', 'fun2_1', 'amb2_1', 'shar2_1'], dtype='object')"
      ]
     },
     "execution_count": 16,
     "metadata": {},
     "output_type": "execute_result"
    }
   ],
   "source": [
    "presumed_attributes.columns"
   ]
  },
  {
   "cell_type": "code",
   "execution_count": 17,
   "metadata": {},
   "outputs": [
    {
     "data": {
      "application/vnd.plotly.v1+json": {
       "data": [
        {
         "marker": {
          "color": "lightblue"
         },
         "name": "Men",
         "type": "bar",
         "x": [
          "attr2_1",
          "sinc2_1",
          "intel2_1",
          "fun2_1",
          "amb2_1",
          "shar2_1"
         ],
         "y": [
          25.092630570196487,
          15.181078102539542,
          16.279633445136568,
          18.11537853378053,
          14.234815081652275,
          11.07192363112393
         ]
        },
        {
         "marker": {
          "color": "lightred"
         },
         "name": "Women",
         "type": "bar",
         "x": [
          "attr2_1",
          "sinc2_1",
          "intel2_1",
          "fun2_1",
          "amb2_1",
          "shar2_1"
         ],
         "y": [
          35.69434909090912,
          11.34364606060607,
          12.532021818181846,
          18.733510303030243,
          9.230637575757584,
          12.645112727272728
         ]
        }
       ],
       "layout": {
        "font": {
         "size": 14
        },
        "legend": {
         "font": {
          "size": 12
         }
        },
        "title": "What people think the opposite sex looks for in a date"
       }
      },
      "text/html": [
       "<div id=\"398b2af3-81a2-420f-a058-a81a0efd873d\" style=\"height: 525px; width: 100%;\" class=\"plotly-graph-div\"></div><script type=\"text/javascript\">require([\"plotly\"], function(Plotly) { window.PLOTLYENV=window.PLOTLYENV || {};window.PLOTLYENV.BASE_URL=\"https://plot.ly\";Plotly.newPlot(\"398b2af3-81a2-420f-a058-a81a0efd873d\", [{\"type\": \"bar\", \"y\": [25.092630570196487, 15.181078102539542, 16.279633445136568, 18.11537853378053, 14.234815081652275, 11.07192363112393], \"x\": [\"attr2_1\", \"sinc2_1\", \"intel2_1\", \"fun2_1\", \"amb2_1\", \"shar2_1\"], \"name\": \"Men\", \"marker\": {\"color\": \"lightblue\"}}, {\"type\": \"bar\", \"y\": [35.69434909090912, 11.34364606060607, 12.532021818181846, 18.733510303030243, 9.230637575757584, 12.645112727272728], \"x\": [\"attr2_1\", \"sinc2_1\", \"intel2_1\", \"fun2_1\", \"amb2_1\", \"shar2_1\"], \"name\": \"Women\", \"marker\": {\"color\": \"lightred\"}}], {\"title\": \"What people think the opposite sex looks for in a date\", \"font\": {\"size\": 14}, \"legend\": {\"font\": {\"size\": 12}}}, {\"showLink\": true, \"linkText\": \"Export to plot.ly\"})});</script>"
      ],
      "text/vnd.plotly.v1+html": [
       "<div id=\"398b2af3-81a2-420f-a058-a81a0efd873d\" style=\"height: 525px; width: 100%;\" class=\"plotly-graph-div\"></div><script type=\"text/javascript\">require([\"plotly\"], function(Plotly) { window.PLOTLYENV=window.PLOTLYENV || {};window.PLOTLYENV.BASE_URL=\"https://plot.ly\";Plotly.newPlot(\"398b2af3-81a2-420f-a058-a81a0efd873d\", [{\"type\": \"bar\", \"y\": [25.092630570196487, 15.181078102539542, 16.279633445136568, 18.11537853378053, 14.234815081652275, 11.07192363112393], \"x\": [\"attr2_1\", \"sinc2_1\", \"intel2_1\", \"fun2_1\", \"amb2_1\", \"shar2_1\"], \"name\": \"Men\", \"marker\": {\"color\": \"lightblue\"}}, {\"type\": \"bar\", \"y\": [35.69434909090912, 11.34364606060607, 12.532021818181846, 18.733510303030243, 9.230637575757584, 12.645112727272728], \"x\": [\"attr2_1\", \"sinc2_1\", \"intel2_1\", \"fun2_1\", \"amb2_1\", \"shar2_1\"], \"name\": \"Women\", \"marker\": {\"color\": \"lightred\"}}], {\"title\": \"What people think the opposite sex looks for in a date\", \"font\": {\"size\": 14}, \"legend\": {\"font\": {\"size\": 12}}}, {\"showLink\": true, \"linkText\": \"Export to plot.ly\"})});</script>"
      ]
     },
     "metadata": {},
     "output_type": "display_data"
    }
   ],
   "source": [
    "import plotly.graph_objs as go\n",
    "\n",
    "pres_men = go.Bar(\n",
    "                    y = presumed_attributes.iloc[1],\n",
    "                    x = presumed_attributes.columns.values,\n",
    "                    name = 'Men',\n",
    "                    marker = dict(\n",
    "                    color = 'lightblue'\n",
    "                    )\n",
    ")\n",
    "pres_women = go.Bar(\n",
    "                    y = presumed_attributes.iloc[0],\n",
    "                    x = presumed_attributes.columns.values,\n",
    "                    name= 'Women',\n",
    "                    marker = dict(\n",
    "                    color = 'lightred'\n",
    "                    )\n",
    ")\n",
    "\n",
    "data2 = [pres_men, pres_women]\n",
    "\n",
    "layout2 = go.Layout(\n",
    "    title = 'What people think the opposite sex looks for in a date',\n",
    "    font=dict(\n",
    "        size=14\n",
    "    ),\n",
    "    legend=dict(\n",
    "        font=dict(\n",
    "            size=12\n",
    "        )\n",
    "    )\n",
    ")\n",
    "fig = go.Figure(data=data2, layout=layout2)\n",
    "py.iplot(fig, filename='barchart')"
   ]
  },
  {
   "cell_type": "code",
   "execution_count": 18,
   "metadata": {
    "collapsed": true
   },
   "outputs": [],
   "source": [
    "same_sex_attr = dataset[['gender','attr4_1', 'sinc4_1','intel4_1', 'fun4_1', 'amb4_1', 'shar4_1']].groupby('gender').mean()"
   ]
  },
  {
   "cell_type": "code",
   "execution_count": 19,
   "metadata": {},
   "outputs": [
    {
     "data": {
      "text/html": [
       "<div>\n",
       "<style>\n",
       "    .dataframe thead tr:only-child th {\n",
       "        text-align: right;\n",
       "    }\n",
       "\n",
       "    .dataframe thead th {\n",
       "        text-align: left;\n",
       "    }\n",
       "\n",
       "    .dataframe tbody tr th {\n",
       "        vertical-align: top;\n",
       "    }\n",
       "</style>\n",
       "<table border=\"1\" class=\"dataframe\">\n",
       "  <thead>\n",
       "    <tr style=\"text-align: right;\">\n",
       "      <th></th>\n",
       "      <th>attr4_1</th>\n",
       "      <th>sinc4_1</th>\n",
       "      <th>intel4_1</th>\n",
       "      <th>fun4_1</th>\n",
       "      <th>amb4_1</th>\n",
       "      <th>shar4_1</th>\n",
       "    </tr>\n",
       "    <tr>\n",
       "      <th>gender</th>\n",
       "      <th></th>\n",
       "      <th></th>\n",
       "      <th></th>\n",
       "      <th></th>\n",
       "      <th></th>\n",
       "      <th></th>\n",
       "    </tr>\n",
       "  </thead>\n",
       "  <tbody>\n",
       "    <tr>\n",
       "      <th>0</th>\n",
       "      <td>24.711378</td>\n",
       "      <td>11.369103</td>\n",
       "      <td>13.109158</td>\n",
       "      <td>14.928770</td>\n",
       "      <td>11.872032</td>\n",
       "      <td>11.159267</td>\n",
       "    </tr>\n",
       "    <tr>\n",
       "      <th>1</th>\n",
       "      <td>28.075786</td>\n",
       "      <td>10.774184</td>\n",
       "      <td>12.163894</td>\n",
       "      <td>16.204251</td>\n",
       "      <td>7.690080</td>\n",
       "      <td>10.871534</td>\n",
       "    </tr>\n",
       "  </tbody>\n",
       "</table>\n",
       "</div>"
      ],
      "text/plain": [
       "          attr4_1    sinc4_1   intel4_1     fun4_1     amb4_1    shar4_1\n",
       "gender                                                                  \n",
       "0       24.711378  11.369103  13.109158  14.928770  11.872032  11.159267\n",
       "1       28.075786  10.774184  12.163894  16.204251   7.690080  10.871534"
      ]
     },
     "execution_count": 19,
     "metadata": {},
     "output_type": "execute_result"
    }
   ],
   "source": [
    "same_sex_attr"
   ]
  },
  {
   "cell_type": "code",
   "execution_count": 20,
   "metadata": {
    "collapsed": true
   },
   "outputs": [],
   "source": [
    "same_sex_attr.columns = cols"
   ]
  },
  {
   "cell_type": "code",
   "execution_count": 21,
   "metadata": {},
   "outputs": [
    {
     "data": {
      "application/vnd.plotly.v1+json": {
       "data": [
        {
         "marker": {
          "color": "orange"
         },
         "name": "Women on same sex",
         "type": "bar",
         "x": [
          "Attractiveness",
          "Sincereness",
          "Intellect",
          "Fun",
          "Ambitiousness",
          "Shared Interests"
         ],
         "y": [
          24.711378353376503,
          11.369102682701202,
          13.109158186864015,
          14.92876965772433,
          11.872032069071848,
          11.159267308289351
         ]
        },
        {
         "marker": {
          "color": "black"
         },
         "name": "Men on same sex",
         "type": "bar",
         "x": [
          "Attractiveness",
          "Sincereness",
          "Intellect",
          "Fun",
          "Ambitiousness",
          "Shared Interests"
         ],
         "y": [
          28.075785582255083,
          10.774183610597659,
          12.163894023413432,
          16.204251386321626,
          7.690080098582871,
          10.871534195933457
         ]
        },
        {
         "marker": {
          "color": "red"
         },
         "name": "Women about themselves",
         "type": "bar",
         "x": [
          "Attractiveness",
          "Sincereness",
          "Intellect",
          "Fun",
          "Ambitiousness",
          "Shared Interests"
         ],
         "y": [
          18.055224242424316,
          18.3050084848485,
          21.002501818181855,
          17.14729212121212,
          12.827221818181824,
          12.70419449183524
         ]
        },
        {
         "marker": {
          "color": "rgb(233,230,32)"
         },
         "name": "Men about themselves",
         "type": "bar",
         "x": [
          "Attractiveness",
          "Sincereness",
          "Intellect",
          "Fun",
          "Ambitiousness",
          "Shared Interests"
         ],
         "y": [
          26.921689027311793,
          16.498435553425928,
          19.537374221370353,
          17.76389289145044,
          8.552828598940778,
          10.996574386133897
         ]
        }
       ],
       "layout": {
        "font": {
         "size": 14
        },
        "legend": {
         "font": {
          "size": 12
         }
        },
        "title": "Comparison of what men/women think the same sex is looking for vs what men/women actually looking for in the opposite sex"
       }
      },
      "text/html": [
       "<div id=\"7915fc3d-0bac-46cd-8475-d1a953525175\" style=\"height: 525px; width: 100%;\" class=\"plotly-graph-div\"></div><script type=\"text/javascript\">require([\"plotly\"], function(Plotly) { window.PLOTLYENV=window.PLOTLYENV || {};window.PLOTLYENV.BASE_URL=\"https://plot.ly\";Plotly.newPlot(\"7915fc3d-0bac-46cd-8475-d1a953525175\", [{\"type\": \"bar\", \"y\": [24.711378353376503, 11.369102682701202, 13.109158186864015, 14.92876965772433, 11.872032069071848, 11.159267308289351], \"x\": [\"Attractiveness\", \"Sincereness\", \"Intellect\", \"Fun\", \"Ambitiousness\", \"Shared Interests\"], \"name\": \"Women on same sex\", \"marker\": {\"color\": \"orange\"}}, {\"type\": \"bar\", \"y\": [28.075785582255083, 10.774183610597659, 12.163894023413432, 16.204251386321626, 7.690080098582871, 10.871534195933457], \"x\": [\"Attractiveness\", \"Sincereness\", \"Intellect\", \"Fun\", \"Ambitiousness\", \"Shared Interests\"], \"name\": \"Men on same sex\", \"marker\": {\"color\": \"black\"}}, {\"type\": \"bar\", \"y\": [18.055224242424316, 18.3050084848485, 21.002501818181855, 17.14729212121212, 12.827221818181824, 12.70419449183524], \"x\": [\"Attractiveness\", \"Sincereness\", \"Intellect\", \"Fun\", \"Ambitiousness\", \"Shared Interests\"], \"name\": \"Women about themselves\", \"marker\": {\"color\": \"red\"}}, {\"type\": \"bar\", \"y\": [26.921689027311793, 16.498435553425928, 19.537374221370353, 17.76389289145044, 8.552828598940778, 10.996574386133897], \"x\": [\"Attractiveness\", \"Sincereness\", \"Intellect\", \"Fun\", \"Ambitiousness\", \"Shared Interests\"], \"name\": \"Men about themselves\", \"marker\": {\"color\": \"rgb(233,230,32)\"}}], {\"title\": \"Comparison of what men/women think the same sex is looking for vs what men/women actually looking for in the opposite sex\", \"font\": {\"size\": 14}, \"legend\": {\"font\": {\"size\": 12}}}, {\"showLink\": true, \"linkText\": \"Export to plot.ly\"})});</script>"
      ],
      "text/vnd.plotly.v1+html": [
       "<div id=\"7915fc3d-0bac-46cd-8475-d1a953525175\" style=\"height: 525px; width: 100%;\" class=\"plotly-graph-div\"></div><script type=\"text/javascript\">require([\"plotly\"], function(Plotly) { window.PLOTLYENV=window.PLOTLYENV || {};window.PLOTLYENV.BASE_URL=\"https://plot.ly\";Plotly.newPlot(\"7915fc3d-0bac-46cd-8475-d1a953525175\", [{\"type\": \"bar\", \"y\": [24.711378353376503, 11.369102682701202, 13.109158186864015, 14.92876965772433, 11.872032069071848, 11.159267308289351], \"x\": [\"Attractiveness\", \"Sincereness\", \"Intellect\", \"Fun\", \"Ambitiousness\", \"Shared Interests\"], \"name\": \"Women on same sex\", \"marker\": {\"color\": \"orange\"}}, {\"type\": \"bar\", \"y\": [28.075785582255083, 10.774183610597659, 12.163894023413432, 16.204251386321626, 7.690080098582871, 10.871534195933457], \"x\": [\"Attractiveness\", \"Sincereness\", \"Intellect\", \"Fun\", \"Ambitiousness\", \"Shared Interests\"], \"name\": \"Men on same sex\", \"marker\": {\"color\": \"black\"}}, {\"type\": \"bar\", \"y\": [18.055224242424316, 18.3050084848485, 21.002501818181855, 17.14729212121212, 12.827221818181824, 12.70419449183524], \"x\": [\"Attractiveness\", \"Sincereness\", \"Intellect\", \"Fun\", \"Ambitiousness\", \"Shared Interests\"], \"name\": \"Women about themselves\", \"marker\": {\"color\": \"red\"}}, {\"type\": \"bar\", \"y\": [26.921689027311793, 16.498435553425928, 19.537374221370353, 17.76389289145044, 8.552828598940778, 10.996574386133897], \"x\": [\"Attractiveness\", \"Sincereness\", \"Intellect\", \"Fun\", \"Ambitiousness\", \"Shared Interests\"], \"name\": \"Men about themselves\", \"marker\": {\"color\": \"rgb(233,230,32)\"}}], {\"title\": \"Comparison of what men/women think the same sex is looking for vs what men/women actually looking for in the opposite sex\", \"font\": {\"size\": 14}, \"legend\": {\"font\": {\"size\": 12}}}, {\"showLink\": true, \"linkText\": \"Export to plot.ly\"})});</script>"
      ]
     },
     "metadata": {},
     "output_type": "display_data"
    }
   ],
   "source": [
    "import plotly.graph_objs as go\n",
    "same_w = go.Bar(\n",
    "                y = same_sex_attr.iloc[0],\n",
    "                x = same_sex_attr.columns.values,\n",
    "                name='Women on same sex',\n",
    "                marker =dict(\n",
    "                color = 'orange'\n",
    "                )\n",
    ")\n",
    "same_m =go.Bar(\n",
    "                y = same_sex_attr.iloc[1],\n",
    "                x = same_sex_attr.columns.values,\n",
    "                name = 'Men on same sex',\n",
    "                marker = dict(\n",
    "                color = \"black\"\n",
    "                )\n",
    ")\n",
    "\n",
    "data3 = [same_w,same_m, women_data, men_data]\n",
    "\n",
    "layout3 = go.Layout(\n",
    "            title = 'Comparison of what men/women think the same sex is looking for vs what men/women actually looking for in the opposite sex',\n",
    "            font=dict(\n",
    "            size=14\n",
    "            ),\n",
    "            legend=dict(\n",
    "                font=dict(\n",
    "            size=12\n",
    "        )\n",
    "    )\n",
    ")\n",
    "fig = go.Figure(data=data3, layout=layout3)\n",
    "py.iplot(fig, filename='barchart')"
   ]
  },
  {
   "cell_type": "code",
   "execution_count": 22,
   "metadata": {
    "collapsed": true
   },
   "outputs": [],
   "source": [
    "#How people see themselves and how others see them:\n",
    "self_scoring = dataset[['gender','attr3_1', 'sinc3_1','intel3_1', 'fun3_1', 'amb3_1']].groupby('gender').mean()\n",
    "others_scoring = dataset[['gender','attr5_1', 'sinc5_1','intel5_1', 'fun5_1', 'amb5_1']].groupby('gender').mean()"
   ]
  },
  {
   "cell_type": "code",
   "execution_count": 23,
   "metadata": {
    "collapsed": true
   },
   "outputs": [],
   "source": [
    "col = ['Attractiveness', 'Sincereness', 'Intellect', 'Fun', 'Ambitiousness']\n",
    "\n"
   ]
  },
  {
   "cell_type": "code",
   "execution_count": 24,
   "metadata": {
    "collapsed": true
   },
   "outputs": [],
   "source": [
    "self_scoring.columns = col\n",
    "others_scoring.columns = col"
   ]
  },
  {
   "cell_type": "code",
   "execution_count": 25,
   "metadata": {},
   "outputs": [
    {
     "data": {
      "application/vnd.plotly.v1+json": {
       "data": [
        {
         "marker": {
          "color": "lightgreen"
         },
         "name": "Women Self-Scoring",
         "type": "bar",
         "x": [
          "Attractiveness",
          "Sincereness",
          "Intellect",
          "Fun",
          "Ambitiousness"
         ],
         "y": [
          7.21909157153267,
          8.458343453971338,
          8.320621811999029,
          7.893611853291231,
          7.632499392761719
         ]
        },
        {
         "marker": {
          "color": "darkgreen"
         },
         "name": "Men  Others Scoring",
         "type": "bar",
         "x": [
          "Attractiveness",
          "Sincereness",
          "Intellect",
          "Fun",
          "Ambitiousness"
         ],
         "y": [
          6.865549652635881,
          7.737229260318758,
          8.342868818961994,
          7.35063342868819,
          7.4891704127503065
         ]
        },
        {
         "marker": {
          "color": "orange"
         },
         "name": "Men Self-Scoring",
         "type": "bar",
         "x": [
          "Attractiveness",
          "Sincereness",
          "Intellect",
          "Fun",
          "Ambitiousness"
         ],
         "y": [
          6.951636188642926,
          8.13306063522618,
          8.486525505293551,
          7.517083734359962,
          7.524783445620789
         ]
        },
        {
         "marker": {
          "color": "olive"
         },
         "name": "Women Others Scoring",
         "type": "bar",
         "x": [
          "Attractiveness",
          "Sincereness",
          "Intellect",
          "Fun",
          "Ambitiousness"
         ],
         "y": [
          7.017893452623017,
          8.116307442049614,
          8.226108174054493,
          7.501423342822285,
          7.745424969499797
         ]
        }
       ],
       "layout": {
        "font": {
         "size": 14
        },
        "legend": {
         "font": {
          "size": 12
         }
        },
        "title": "Difference of Self-perception vs. Perception by Others per sex"
       }
      },
      "text/html": [
       "<div id=\"e84ac7d1-beb6-4d33-b877-0d9edda349e6\" style=\"height: 525px; width: 100%;\" class=\"plotly-graph-div\"></div><script type=\"text/javascript\">require([\"plotly\"], function(Plotly) { window.PLOTLYENV=window.PLOTLYENV || {};window.PLOTLYENV.BASE_URL=\"https://plot.ly\";Plotly.newPlot(\"e84ac7d1-beb6-4d33-b877-0d9edda349e6\", [{\"type\": \"bar\", \"y\": [7.21909157153267, 8.458343453971338, 8.320621811999029, 7.893611853291231, 7.632499392761719], \"x\": [\"Attractiveness\", \"Sincereness\", \"Intellect\", \"Fun\", \"Ambitiousness\"], \"name\": \"Women Self-Scoring\", \"marker\": {\"color\": \"lightgreen\"}}, {\"type\": \"bar\", \"y\": [6.865549652635881, 7.737229260318758, 8.342868818961994, 7.35063342868819, 7.4891704127503065], \"x\": [\"Attractiveness\", \"Sincereness\", \"Intellect\", \"Fun\", \"Ambitiousness\"], \"name\": \"Men  Others Scoring\", \"marker\": {\"color\": \"darkgreen\"}}, {\"type\": \"bar\", \"y\": [6.951636188642926, 8.13306063522618, 8.486525505293551, 7.517083734359962, 7.524783445620789], \"x\": [\"Attractiveness\", \"Sincereness\", \"Intellect\", \"Fun\", \"Ambitiousness\"], \"name\": \"Men Self-Scoring\", \"marker\": {\"color\": \"orange\"}}, {\"type\": \"bar\", \"y\": [7.017893452623017, 8.116307442049614, 8.226108174054493, 7.501423342822285, 7.745424969499797], \"x\": [\"Attractiveness\", \"Sincereness\", \"Intellect\", \"Fun\", \"Ambitiousness\"], \"name\": \"Women Others Scoring\", \"marker\": {\"color\": \"olive\"}}], {\"title\": \"Difference of Self-perception vs. Perception by Others per sex\", \"font\": {\"size\": 14}, \"legend\": {\"font\": {\"size\": 12}}}, {\"showLink\": true, \"linkText\": \"Export to plot.ly\"})});</script>"
      ],
      "text/vnd.plotly.v1+html": [
       "<div id=\"e84ac7d1-beb6-4d33-b877-0d9edda349e6\" style=\"height: 525px; width: 100%;\" class=\"plotly-graph-div\"></div><script type=\"text/javascript\">require([\"plotly\"], function(Plotly) { window.PLOTLYENV=window.PLOTLYENV || {};window.PLOTLYENV.BASE_URL=\"https://plot.ly\";Plotly.newPlot(\"e84ac7d1-beb6-4d33-b877-0d9edda349e6\", [{\"type\": \"bar\", \"y\": [7.21909157153267, 8.458343453971338, 8.320621811999029, 7.893611853291231, 7.632499392761719], \"x\": [\"Attractiveness\", \"Sincereness\", \"Intellect\", \"Fun\", \"Ambitiousness\"], \"name\": \"Women Self-Scoring\", \"marker\": {\"color\": \"lightgreen\"}}, {\"type\": \"bar\", \"y\": [6.865549652635881, 7.737229260318758, 8.342868818961994, 7.35063342868819, 7.4891704127503065], \"x\": [\"Attractiveness\", \"Sincereness\", \"Intellect\", \"Fun\", \"Ambitiousness\"], \"name\": \"Men  Others Scoring\", \"marker\": {\"color\": \"darkgreen\"}}, {\"type\": \"bar\", \"y\": [6.951636188642926, 8.13306063522618, 8.486525505293551, 7.517083734359962, 7.524783445620789], \"x\": [\"Attractiveness\", \"Sincereness\", \"Intellect\", \"Fun\", \"Ambitiousness\"], \"name\": \"Men Self-Scoring\", \"marker\": {\"color\": \"orange\"}}, {\"type\": \"bar\", \"y\": [7.017893452623017, 8.116307442049614, 8.226108174054493, 7.501423342822285, 7.745424969499797], \"x\": [\"Attractiveness\", \"Sincereness\", \"Intellect\", \"Fun\", \"Ambitiousness\"], \"name\": \"Women Others Scoring\", \"marker\": {\"color\": \"olive\"}}], {\"title\": \"Difference of Self-perception vs. Perception by Others per sex\", \"font\": {\"size\": 14}, \"legend\": {\"font\": {\"size\": 12}}}, {\"showLink\": true, \"linkText\": \"Export to plot.ly\"})});</script>"
      ]
     },
     "metadata": {},
     "output_type": "display_data"
    }
   ],
   "source": [
    "import plotly.graph_objs as go\n",
    "women_self = go.Bar(\n",
    "                    y = self_scoring.iloc[0],\n",
    "                    x = self_scoring.columns.values,\n",
    "                    name = 'Women Self-Scoring',\n",
    "                    marker= dict(\n",
    "                    color= 'lightgreen'\n",
    "                    )\n",
    ")\n",
    "\n",
    "men_other = go.Bar(\n",
    "                  y = others_scoring.iloc[1],\n",
    "                  x = others_scoring.columns.values,\n",
    "                  name = 'Men  Others Scoring',\n",
    "                  marker= dict(\n",
    "                  color='darkgreen'\n",
    "                  )\n",
    ")\n",
    "\n",
    "women_other = go.Bar(\n",
    "                    y = others_scoring.iloc[0],\n",
    "                    x = others_scoring.columns.values,\n",
    "                    name = 'Women Others Scoring',\n",
    "                    marker= dict(\n",
    "                    color= 'olive'\n",
    "                    )\n",
    ")\n",
    "\n",
    "men_self = go.Bar(\n",
    "                  y = self_scoring.iloc[1],\n",
    "                  x = self_scoring.columns.values,\n",
    "                  name = 'Men Self-Scoring',\n",
    "                  marker= dict(\n",
    "                  color='orange'\n",
    "                  )\n",
    ")\n",
    "\n",
    "data4 = [women_self, men_other, men_self, women_other]\n",
    "\n",
    "layout4 = go.Layout(\n",
    "                    title = 'Difference of Self-perception vs. Perception by Others per sex',\n",
    "                    font =dict(\n",
    "                    size= 14\n",
    "                    ),\n",
    "                    legend= dict(\n",
    "                    font =dict(\n",
    "                    size = 12\n",
    "                    )\n",
    "                )\n",
    ")\n",
    "fig = go.Figure(data=data4, layout=layout4)\n",
    "py.iplot(fig, filename='barchart')             "
   ]
  },
  {
   "cell_type": "code",
   "execution_count": 26,
   "metadata": {},
   "outputs": [
    {
     "data": {
      "text/plain": [
       "(Attractiveness    7.017893\n",
       " Sincereness       8.116307\n",
       " Intellect         8.226108\n",
       " Fun               7.501423\n",
       " Ambitiousness     7.745425\n",
       " Name: 0, dtype: float64,\n",
       " array(['Attractiveness', 'Sincereness', 'Intellect', 'Fun', 'Ambitiousness'], dtype=object))"
      ]
     },
     "execution_count": 26,
     "metadata": {},
     "output_type": "execute_result"
    }
   ],
   "source": [
    "others_scoring.iloc[0], others_scoring.columns.values"
   ]
  },
  {
   "cell_type": "code",
   "execution_count": 27,
   "metadata": {},
   "outputs": [
    {
     "data": {
      "image/png": "[encoded data removed]",
      "text/plain": [
       "<matplotlib.figure.Figure at 0x1f193bb6710>"
      ]
     },
     "metadata": {},
     "output_type": "display_data"
    }
   ],
   "source": [
    "#How important it is in dating to share the same ethnic background?\n",
    "import seaborn as sns\n",
    "sns.countplot(x='imprace',data=dataset)\n",
    "plt.title('Importance to share the same ethnic background')\n",
    "plt.show()"
   ]
  },
  {
   "cell_type": "code",
   "execution_count": 28,
   "metadata": {},
   "outputs": [
    {
     "data": {
      "image/png": "[encoded data removed]",
      "text/plain": [
       "<matplotlib.figure.Figure at 0x1f1948a0400>"
      ]
     },
     "metadata": {},
     "output_type": "display_data"
    }
   ],
   "source": [
    "#How important it is in dating to share the same religious background?\n",
    "sns.countplot(x='imprelig',data=dataset)\n",
    "plt.title('Importance to share the same religious background')\n",
    "plt.show()"
   ]
  },
  {
   "cell_type": "code",
   "execution_count": 29,
   "metadata": {
    "collapsed": true
   },
   "outputs": [],
   "source": [
    "#Goal of Men vs. Women\n",
    "goals = ['Seemed like a fun night out','To meet new people','To get a date'\n",
    "        ,'Looking for a serious relationship','To say I did it','Other']\n",
    "plt.figure(figsize=(8,12))\n",
    "sn = sns.countplot(y='goal',data=dataset, hue='gender', palette=None)\n",
    "sn.set(yticklabels=goals)\n",
    "sn.set\n",
    "sn = plt.yticks(rotation=0,fontsize=16)"
   ]
  },
  {
   "cell_type": "code",
   "execution_count": 31,
   "metadata": {
    "collapsed": true
   },
   "outputs": [],
   "source": [
    "# drop unneccessary columns\n",
    "df_columns_to_keep = ['iid','id','goal','date','go_out']"
   ]
  },
  {
   "cell_type": "code",
   "execution_count": 32,
   "metadata": {
    "collapsed": true
   },
   "outputs": [],
   "source": [
    "df = dataset[df_columns_to_keep]"
   ]
  },
  {
   "cell_type": "markdown",
   "metadata": {
    "collapsed": true
   },
   "source": [
    "#Question no.1: Is there a correlation between the frequency of dating and the aim of dating?\n",
    " \n",
    " first step:\n",
    "quantify seriousness of the below aims of dating:\n",
    " * Seemed like a fun night out=1 becomes 4\n",
    " * To meet new people=2 becomes 3\n",
    " * To get a date=3 becomes 2\n",
    " * Looking for a serious relationship=4 becomes 1\n",
    " * To say I did it=5 becomes 5\n",
    " * Other=6 becomes 6\n",
    "\n",
    "Dating frequency:\n",
    "In general, how frequently do you go on dates? \n",
    "/n\n",
    "\n",
    "    *Several times a week=1\n",
    "    *Twice a week=2\n",
    "    *Once a week=3\n",
    "    *Twice a month=4\n",
    "    *Once a month=5\n",
    "    *Several times a year=6\n",
    "    *Almost never=7\n",
    "\n"
   ]
  },
  {
   "cell_type": "code",
   "execution_count": 33,
   "metadata": {
    "collapsed": true
   },
   "outputs": [],
   "source": [
    "df_1 = df['goal'].map({4:1, 3:2, 2:3, 1:4, 5:5, 6:6})\n",
    "df_2 = df['date']\n"
   ]
  },
  {
   "cell_type": "code",
   "execution_count": 34,
   "metadata": {
    "collapsed": true
   },
   "outputs": [],
   "source": [
    "q = pd.concat([df_1,df_2], axis =1)\n",
    "#len(q)\n",
    "#len(q[q['goal'].isnull()])\n",
    "#len(q[q['date'].isnull()])\n",
    "z = q.dropna(axis=0, how='any')\n",
    "cleardata = z.astype(int)"
   ]
  },
  {
   "cell_type": "code",
   "execution_count": 35,
   "metadata": {
    "collapsed": true
   },
   "outputs": [],
   "source": [
    "x1 = [item for item in cleardata['date']]\n",
    "y1 = [item for item in cleardata['goal']]\n",
    "x = np.asarray(x1)\n",
    "y = np.asarray(y1)"
   ]
  },
  {
   "cell_type": "code",
   "execution_count": 36,
   "metadata": {
    "collapsed": true
   },
   "outputs": [],
   "source": [
    "%matplotlib inline\n",
    "import matplotlib.pyplot as plot"
   ]
  },
  {
   "cell_type": "code",
   "execution_count": 37,
   "metadata": {},
   "outputs": [
    {
     "data": {
      "text/plain": [
       "<matplotlib.colorbar.Colorbar at 0x1f194c92710>"
      ]
     },
     "execution_count": 37,
     "metadata": {},
     "output_type": "execute_result"
    },
    {
     "data": {
      "image/png": "[encoded data removed]",
      "text/plain": [
       "<matplotlib.figure.Figure at 0x1f19549b160>"
      ]
     },
     "metadata": {},
     "output_type": "display_data"
    }
   ],
   "source": [
    "import numpy as np\n",
    "plot.hist2d(y, x, (50,50), cmap=plot.cm.jet)\n",
    "plot.colorbar()"
   ]
  },
  {
   "cell_type": "code",
   "execution_count": 38,
   "metadata": {},
   "outputs": [
    {
     "data": {
      "text/plain": [
       "Text(0.5,1,'Correlation Between The Frequency of Dating and The Aim of Dating')"
      ]
     },
     "execution_count": 38,
     "metadata": {},
     "output_type": "execute_result"
    },
    {
     "data": {
      "image/png": "[encoded data removed]",
      "text/plain": [
       "<matplotlib.figure.Figure at 0x1f194c67518>"
      ]
     },
     "metadata": {},
     "output_type": "display_data"
    }
   ],
   "source": [
    "import seaborn as sns\n",
    "sns.set_style(\"white\")\n",
    "sns.kdeplot(x, y)\n",
    "plot.xlabel(\"Dating Frequency\")\n",
    "plot.ylabel(\"Seriousness\")\n",
    "plot.title(\"Correlation Between The Frequency of Dating and The Aim of Dating\")"
   ]
  },
  {
   "cell_type": "code",
   "execution_count": 39,
   "metadata": {},
   "outputs": [
    {
     "data": {
      "text/plain": [
       "Text(0.5,1,'Correlation Between The Frequency of Dating and The Aim of Dating')"
      ]
     },
     "execution_count": 39,
     "metadata": {},
     "output_type": "execute_result"
    },
    {
     "data": {
      "image/png": "[encoded data removed]",
      "text/plain": [
       "<matplotlib.figure.Figure at 0x1f194d11a58>"
      ]
     },
     "metadata": {},
     "output_type": "display_data"
    }
   ],
   "source": [
    "sns.jointplot(x, y, kind='kde')\n",
    "plot.xlabel(\"Dating Frequency\")\n",
    "plot.ylabel(\"Seriousness\")\n",
    "plot.title(\"Correlation Between The Frequency of Dating and The Aim of Dating\")"
   ]
  },
  {
   "cell_type": "code",
   "execution_count": 40,
   "metadata": {},
   "outputs": [
    {
     "data": {
      "text/plain": [
       "Text(0.5,1,'Correlation Between The Frequency of Dating and The Aim of Dating')"
      ]
     },
     "execution_count": 40,
     "metadata": {},
     "output_type": "execute_result"
    },
    {
     "data": {
      "image/png": "[encoded data removed]",
      "text/plain": [
       "<matplotlib.figure.Figure at 0x1f194cbbcc0>"
      ]
     },
     "metadata": {},
     "output_type": "display_data"
    }
   ],
   "source": [
    "sns.kdeplot(x, y, cmap=\"Reds\", shade=True, bw=.15)\n",
    "plot.xlabel(\"Dating Frequency\")\n",
    "plot.ylabel(\"Seriousness\")\n",
    "plot.title(\"Correlation Between The Frequency of Dating and The Aim of Dating\")"
   ]
  },
  {
   "cell_type": "code",
   "execution_count": 41,
   "metadata": {},
   "outputs": [
    {
     "data": {
      "text/plain": [
       "Text(0.5,1,'Correlation Between The Frequency of Dating and The Aim of Dating')"
      ]
     },
     "execution_count": 41,
     "metadata": {},
     "output_type": "execute_result"
    },
    {
     "data": {
      "image/png": "[encoded data removed]",
      "text/plain": [
       "<matplotlib.figure.Figure at 0x1f1951fbf98>"
      ]
     },
     "metadata": {},
     "output_type": "display_data"
    }
   ],
   "source": [
    "sns.kdeplot(x, y, cmap=\"Blues\", shade=True, shade_lowest=True, )\n",
    "plot.xlabel(\"Dating Frequency\")\n",
    "plot.ylabel(\"Seriousness\")\n",
    "plot.title(\"Correlation Between The Frequency of Dating and The Aim of Dating\")\n"
   ]
  },
  {
   "cell_type": "code",
   "execution_count": 42,
   "metadata": {
    "collapsed": true
   },
   "outputs": [],
   "source": [
    "#Select necessary columns and clear them\n",
    "df_whatsmatter = ['gender', 'attr1_1', 'sinc1_1','intel1_1', 'fun1_1', 'amb1_1', 'shar1_1']\n",
    "lst = ['attr1_1', 'sinc1_1','intel1_1', 'fun1_1', 'amb1_1', 'shar1_1']\n",
    "whatsmatter = dataset[df_whatsmatter]\n",
    "import numpy as np\n",
    "#only_numbers = whatsmatter.applymap(np.isreal)\n",
    "#cleardata = only_numbers[df_whatsmatter] == True"
   ]
  },
  {
   "cell_type": "code",
   "execution_count": 43,
   "metadata": {},
   "outputs": [
    {
     "data": {
      "text/html": [
       "<div>\n",
       "<style>\n",
       "    .dataframe thead tr:only-child th {\n",
       "        text-align: right;\n",
       "    }\n",
       "\n",
       "    .dataframe thead th {\n",
       "        text-align: left;\n",
       "    }\n",
       "\n",
       "    .dataframe tbody tr th {\n",
       "        vertical-align: top;\n",
       "    }\n",
       "</style>\n",
       "<table border=\"1\" class=\"dataframe\">\n",
       "  <thead>\n",
       "    <tr style=\"text-align: right;\">\n",
       "      <th></th>\n",
       "      <th>attr1_1</th>\n",
       "      <th>sinc1_1</th>\n",
       "      <th>intel1_1</th>\n",
       "      <th>fun1_1</th>\n",
       "      <th>amb1_1</th>\n",
       "      <th>shar1_1</th>\n",
       "    </tr>\n",
       "  </thead>\n",
       "  <tbody>\n",
       "    <tr>\n",
       "      <th>0</th>\n",
       "      <td>15.0</td>\n",
       "      <td>20.0</td>\n",
       "      <td>20.0</td>\n",
       "      <td>15.0</td>\n",
       "      <td>15.0</td>\n",
       "      <td>15.0</td>\n",
       "    </tr>\n",
       "    <tr>\n",
       "      <th>1</th>\n",
       "      <td>15.0</td>\n",
       "      <td>20.0</td>\n",
       "      <td>20.0</td>\n",
       "      <td>15.0</td>\n",
       "      <td>15.0</td>\n",
       "      <td>15.0</td>\n",
       "    </tr>\n",
       "    <tr>\n",
       "      <th>2</th>\n",
       "      <td>15.0</td>\n",
       "      <td>20.0</td>\n",
       "      <td>20.0</td>\n",
       "      <td>15.0</td>\n",
       "      <td>15.0</td>\n",
       "      <td>15.0</td>\n",
       "    </tr>\n",
       "    <tr>\n",
       "      <th>3</th>\n",
       "      <td>15.0</td>\n",
       "      <td>20.0</td>\n",
       "      <td>20.0</td>\n",
       "      <td>15.0</td>\n",
       "      <td>15.0</td>\n",
       "      <td>15.0</td>\n",
       "    </tr>\n",
       "    <tr>\n",
       "      <th>4</th>\n",
       "      <td>15.0</td>\n",
       "      <td>20.0</td>\n",
       "      <td>20.0</td>\n",
       "      <td>15.0</td>\n",
       "      <td>15.0</td>\n",
       "      <td>15.0</td>\n",
       "    </tr>\n",
       "  </tbody>\n",
       "</table>\n",
       "</div>"
      ],
      "text/plain": [
       "   attr1_1  sinc1_1  intel1_1  fun1_1  amb1_1  shar1_1\n",
       "0     15.0     20.0      20.0    15.0    15.0     15.0\n",
       "1     15.0     20.0      20.0    15.0    15.0     15.0\n",
       "2     15.0     20.0      20.0    15.0    15.0     15.0\n",
       "3     15.0     20.0      20.0    15.0    15.0     15.0\n",
       "4     15.0     20.0      20.0    15.0    15.0     15.0"
      ]
     },
     "execution_count": 43,
     "metadata": {},
     "output_type": "execute_result"
    }
   ],
   "source": [
    "female_df = whatsmatter[whatsmatter['gender']==0]\n",
    "male_df = whatsmatter[whatsmatter['gender'] == 1]\n",
    "del female_df['gender']\n",
    "del male_df['gender']\n",
    "female_df.head()"
   ]
  },
  {
   "cell_type": "code",
   "execution_count": 44,
   "metadata": {
    "collapsed": true
   },
   "outputs": [],
   "source": [
    "#create numpy arrays from columns:\n",
    "\n",
    "att = [item for item in female_df['attr1_1']]\n",
    "attraction = np.asarray(att)\n",
    "sinc = [item for item in female_df['sinc1_1']]\n",
    "sincereness = np.asarray(sinc)\n",
    "intel = [item for item in female_df['intel1_1']]\n",
    "intelligence = np.asarray(intel)\n",
    "fun1 = [item for item in female_df['fun1_1']]\n",
    "fun = np.asarray(fun1)\n",
    "amb = [item for item in female_df['amb1_1']]\n",
    "ambition = np.asarray(amb)\n",
    "shar = [item for item in female_df['shar1_1']]\n",
    "shared_i = np.asarray(shar)\n",
    "female_df = pd.DataFrame({\n",
    "    'attraction': attraction,\n",
    "    'sincereness': sincereness,\n",
    "    'intelligence': intelligence,\n",
    "    'fun' : fun,\n",
    "    'ambition' : ambition,\n",
    "    'shared_i': shared_i})"
   ]
  },
  {
   "cell_type": "code",
   "execution_count": 45,
   "metadata": {},
   "outputs": [
    {
     "data": {
      "text/html": [
       "<div>\n",
       "<style>\n",
       "    .dataframe thead tr:only-child th {\n",
       "        text-align: right;\n",
       "    }\n",
       "\n",
       "    .dataframe thead th {\n",
       "        text-align: left;\n",
       "    }\n",
       "\n",
       "    .dataframe tbody tr th {\n",
       "        vertical-align: top;\n",
       "    }\n",
       "</style>\n",
       "<table border=\"1\" class=\"dataframe\">\n",
       "  <thead>\n",
       "    <tr style=\"text-align: right;\">\n",
       "      <th></th>\n",
       "      <th>ambition</th>\n",
       "      <th>attraction</th>\n",
       "      <th>fun</th>\n",
       "      <th>intelligence</th>\n",
       "      <th>shared_i</th>\n",
       "      <th>sincereness</th>\n",
       "    </tr>\n",
       "  </thead>\n",
       "  <tbody>\n",
       "    <tr>\n",
       "      <th>0</th>\n",
       "      <td>15.0</td>\n",
       "      <td>15.0</td>\n",
       "      <td>15.0</td>\n",
       "      <td>20.0</td>\n",
       "      <td>15.0</td>\n",
       "      <td>20.0</td>\n",
       "    </tr>\n",
       "    <tr>\n",
       "      <th>1</th>\n",
       "      <td>15.0</td>\n",
       "      <td>15.0</td>\n",
       "      <td>15.0</td>\n",
       "      <td>20.0</td>\n",
       "      <td>15.0</td>\n",
       "      <td>20.0</td>\n",
       "    </tr>\n",
       "    <tr>\n",
       "      <th>2</th>\n",
       "      <td>15.0</td>\n",
       "      <td>15.0</td>\n",
       "      <td>15.0</td>\n",
       "      <td>20.0</td>\n",
       "      <td>15.0</td>\n",
       "      <td>20.0</td>\n",
       "    </tr>\n",
       "    <tr>\n",
       "      <th>3</th>\n",
       "      <td>15.0</td>\n",
       "      <td>15.0</td>\n",
       "      <td>15.0</td>\n",
       "      <td>20.0</td>\n",
       "      <td>15.0</td>\n",
       "      <td>20.0</td>\n",
       "    </tr>\n",
       "    <tr>\n",
       "      <th>4</th>\n",
       "      <td>15.0</td>\n",
       "      <td>15.0</td>\n",
       "      <td>15.0</td>\n",
       "      <td>20.0</td>\n",
       "      <td>15.0</td>\n",
       "      <td>20.0</td>\n",
       "    </tr>\n",
       "  </tbody>\n",
       "</table>\n",
       "</div>"
      ],
      "text/plain": [
       "   ambition  attraction   fun  intelligence  shared_i  sincereness\n",
       "0      15.0        15.0  15.0          20.0      15.0         20.0\n",
       "1      15.0        15.0  15.0          20.0      15.0         20.0\n",
       "2      15.0        15.0  15.0          20.0      15.0         20.0\n",
       "3      15.0        15.0  15.0          20.0      15.0         20.0\n",
       "4      15.0        15.0  15.0          20.0      15.0         20.0"
      ]
     },
     "execution_count": 45,
     "metadata": {},
     "output_type": "execute_result"
    }
   ],
   "source": [
    "#Import libraries\n",
    "import matplotlib.pyplot as plt\n",
    "from math import pi\n",
    "\n",
    "# number of variable\n",
    "categories=list(female_df)\n",
    "N = len(categories)\n",
    "female_df.head()"
   ]
  },
  {
   "cell_type": "code",
   "execution_count": 48,
   "metadata": {
    "collapsed": true
   },
   "outputs": [],
   "source": [
    "x = ['iid', 'pid', 'dec_o']\n",
    "dataset[x]\n",
    "dataset[x].tail(5)\n",
    "dec = dataset[x]\n",
    "x = dec.pivot_table(index='iid', values='dec_o')\n",
    "chosen_partner = x.values.tolist()\n",
    "y = dec.pivot_table(index='pid',values='dec_o')\n",
    "been_chosen = y.values.tolist()"
   ]
  },
  {
   "cell_type": "code",
   "execution_count": 49,
   "metadata": {},
   "outputs": [
    {
     "data": {
      "text/plain": [
       "Text(0.5,1,'Correlation between chosing partner and being chosen by partner')"
      ]
     },
     "execution_count": 49,
     "metadata": {},
     "output_type": "execute_result"
    },
    {
     "data": {
      "image/png": "[encoded data removed]",
      "text/plain": [
       "<matplotlib.figure.Figure at 0x1f1951017f0>"
      ]
     },
     "metadata": {},
     "output_type": "display_data"
    }
   ],
   "source": [
    "#import matplotlib.pyplot as plt\n",
    "import seaborn as sns\n",
    "#plt.scatter(chosen_partner, been_chosen)\n",
    "#plt.xlabel('Percentage of Positive Decision on Partner')\n",
    "#plt.ylabel('Percentage of Positive Decision on Individual')\n",
    "#plot.title('Correlation between chosing partner and being chosen by partner')\n",
    "sns.jointplot(x.values, y.values, kind='kde')\n",
    "plot.xlabel('Percentage of Positive Decision on Partner')\n",
    "plot.ylabel('Percentage of Positive Decision on Individual')\n",
    "plot.title('Correlation between chosing partner and being chosen by partner')"
   ]
  },
  {
   "cell_type": "code",
   "execution_count": null,
   "metadata": {
    "collapsed": true
   },
   "outputs": [],
   "source": []
  }
 ],
 "metadata": {
  "kernelspec": {
   "display_name": "Python 3",
   "language": "python",
   "name": "python3"
  },
  "language_info": {
   "codemirror_mode": {
    "name": "ipython",
    "version": 3
   },
   "file_extension": ".py",
   "mimetype": "text/x-python",
   "name": "python",
   "nbconvert_exporter": "python",
   "pygments_lexer": "ipython3",
   "version": "3.6.3"
  }
 },
 "nbformat": 4,
 "nbformat_minor": 2
}
